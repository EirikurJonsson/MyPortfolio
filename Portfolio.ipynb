{
 "cells": [
  {
   "cell_type": "markdown",
   "metadata": {},
   "source": [
    "# From social science to Data science\n",
    "\n",
    "So this is my showcase of skills in Data Science. This code compilation is mine but I have to give credit to Sentdex, the youtuber who has been a great resource for anyone that wants to learn to use Python.\n",
    "\n",
    "This portfolio is meant to showcase some good coding convention, analytical \"know-how\" and communication skills of rather complex materials.\n",
    "\n",
    "For this particular portfolio I will calculate the returns and volatility for thousands of randomly generated portfolios. To make it interesting I will use companies listed in the S&P500 index. \n",
    "\n",
    "First let me give a rough outline of the first few code blocks.\n",
    "\n",
    "1. Import all libraries I think I might need\n",
    "2. Create a function/webscraper to get the tickers for all companies within the S&P500\n",
    "3. Download all the data from yahoo and export into a company specific csv file\n",
    "4. Create a joined data frame using the ticker name as the column header and Adjusted close price as the row values. The date will be the index.\n",
    "5. Create randomly generated portfolios and calculate the volatility to find which size portfolios will generated the most acceptable level of volatility\n",
    "6. Create randomly generated portfolios using the size of portfolios from step 5 and find the optimal assets and weights for those assets.\n",
    "7. Show the optimal portfolio in this case. \n",
    "\n",
    "I think that there is some disclaimers that need to said. These portfolios are randomly generated, so these are not necessarily the absolute best or optimized, but would represent a rather good estimation portfolio given the data.\n",
    "\n",
    "Lets get to it!"
   ]
  },
  {
   "cell_type": "code",
   "execution_count": 1,
   "metadata": {},
   "outputs": [],
   "source": [
    "import bs4 as bs\n",
    "import datetime as dt\n",
    "import random\n",
    "import os\n",
    "import pandas_datareader.data as web\n",
    "import pandas as pd\n",
    "import pickle\n",
    "import requests\n",
    "import yfinance as yf\n",
    "import numpy as np\n",
    "import matplotlib.pyplot as plt\n",
    "from pandas_datareader import data as pdr\n",
    "from pandas.core.common import flatten"
   ]
  },
  {
   "cell_type": "markdown",
   "metadata": {},
   "source": [
    "\n",
    "<br>\n",
    "Here below we see an example of a bad function. It will return 500 lists within a single list, so *I recommend not using this*, but I like keeping this here to recognize (and remind me/others) that although some code looks good and does what its should, the output may be in a format that is unpractical moving forward. Sometimes simple is better and in this case we are seeing a aspect of that, where a solution that looks complex is bad. See the next function, which is a lot better then this. \n",
    "\n",
    "<br>"
   ]
  },
  {
   "cell_type": "code",
   "execution_count": null,
   "metadata": {},
   "outputs": [],
   "source": [
    "def save_sp500_tickers():\n",
    "    '''\n",
    "    This will open up the wikipedi for S&P500 index and webscrape the \n",
    "    tickers for all companies in it.\n",
    "    ###################################################################\n",
    "    \n",
    "    This function is not a good one since it returns a list of lists,\n",
    "    so in purest terms, there are 500 lists within a signel list, which\n",
    "    is note exactly DS best practice. Lets let his stand as a \n",
    "    \"What not to do\" sort of code example.\n",
    "    '''\n",
    "    resp = requests.get('http://en.wikipedia.org/wiki/List_of_S%26P_500_companies')\n",
    "    soup = bs.BeautifulSoup(resp.text, 'lxml')\n",
    "    table = soup.find('table', {'class': 'wikitable sortable'})\n",
    "    tickers = []\n",
    "    for row in table.findAll('tr')[1:]:\n",
    "        ticker = row.findAll('td')[0].text\n",
    "        tickers.append(ticker.split())\n",
    "        \n",
    "    with open(\"sp500tickers.pickle\",\"wb\") as f:\n",
    "        pickle.dump(tickers,f)\n",
    "    \n",
    "    return tickers\n",
    "\n",
    "\n",
    "# Uncomment the two lines below to see what the problem with this function is\n",
    "\n",
    "# a = save_sp500_tickers()\n",
    "# print(a)"
   ]
  },
  {
   "cell_type": "markdown",
   "metadata": {},
   "source": [
    "<br>\n",
    "\n",
    "The code here below does the same function as the code above (like I mentioned above), only better. Its simpler, more elegant and returns just a single list. This is practical and nice. This is a good practice to make sure that the data format is useful moving forward.\n",
    "\n",
    "<br>"
   ]
  },
  {
   "cell_type": "code",
   "execution_count": null,
   "metadata": {},
   "outputs": [],
   "source": [
    "def save_sp500_tickers():\n",
    "    '''\n",
    "    This function will return a list of all tickers listed in the \n",
    "    S&P500 index.\n",
    "    ##############################################################\n",
    "    \n",
    "    In regards to the code above, this is simplere and returns a single\n",
    "    list with all the tickers, making everything down the line simpler.\n",
    "    '''\n",
    "    # Use pandas to read the html\n",
    "    data = pd.read_html(\"https://en.wikipedia.org/wiki/List_of_S%26P_500_companies\")\n",
    "    # Slice the pandas object to where the table is located\n",
    "    table = data[0]\n",
    "    #Just a check that everything was working properly\n",
    "    #table.head()\n",
    "    \n",
    "    # set all the tickers to a list\n",
    "    tickers = table['Symbol'].tolist()\n",
    "    #print (tickers)\n",
    "    return tickers\n",
    "\n",
    "tickers = save_sp500_tickers()"
   ]
  },
  {
   "cell_type": "markdown",
   "metadata": {},
   "source": [
    "## Downloading the data\n",
    "\n",
    "Yeah...I set a heading. Reason is that the code block down below is rather intense. What this function get_data_from_yahoo will download data for all the companies listed in the S&P500 and export them to a csv file. Before doing so, you might have to create a directory called stock_dfs in your working directory. This is done to keep the csv separated from other files. Also, why download all and export to csv? Well if I am downloading them anyway I might as well keep them if I want to use the for another project (maybe I will create a SQL database from them? maybe).\n",
    "\n",
    "<br>\n",
    "So just before I end this, if you dont want to download huge amounts of data the **DON'T** run the code here below, otherwise go for it. I took the liberty of printing out what data there is in the folder and what is not so it would be easy to notice changes. But...the downside is there are going to be 500 lines of output. Here it could say \"Already have ... as csv\" if you already have the data, but if you decide to download the data then its going to say \"Download complete for ...\""
   ]
  },
  {
   "cell_type": "code",
   "execution_count": null,
   "metadata": {},
   "outputs": [],
   "source": [
    "def get_data_from_yahoo(reload_sp500=False):\n",
    "    '''\n",
    "    This will download and export the data for a predetermined date\n",
    "    for all the tickers in our tickers list.\n",
    "    ##################################################################\n",
    "    \n",
    "    This function, depending on your internet connection, will be very\n",
    "    heavy, consider decreasing the time frame given here below. \n",
    "    '''\n",
    "    start = dt.datetime(2010, 1, 1)\n",
    "    end = dt.datetime(2020,3,1)\n",
    "    for ticker in tickers:\n",
    "        # just in case your connection breaks, we'd like to save our progress!\n",
    "        if not os.path.exists('stock_dfs/{}.csv'.format(ticker)):\n",
    "            df = web.DataReader(ticker.replace(\".\", \"-\"), 'yahoo', start, end)\n",
    "            df.reset_index(inplace=True)\n",
    "            df.set_index(\"Date\", inplace=True)\n",
    "            #df = df.drop(\"Symbol\", axis=1)\n",
    "            df.to_csv('stock_dfs/{}.csv'.format(ticker))\n",
    "            print(\"Download complete for {}\".format(ticker))\n",
    "        else:\n",
    "            print(\"Already have {} as a csv\".format(ticker))\n",
    "#get_data_from_yahoo()"
   ]
  },
  {
   "cell_type": "markdown",
   "metadata": {},
   "source": [
    "<br>\n",
    "\n",
    "Now I will combine all the 500 data frames into a single data frame, where Adjusted close price will be the only column I will use. The date will be the index and the tickers are the column names.\n",
    "\n",
    "<br>"
   ]
  },
  {
   "cell_type": "code",
   "execution_count": null,
   "metadata": {},
   "outputs": [],
   "source": [
    "%%time\n",
    "def compile_data():\n",
    "    tickers = save_sp500_tickers()\n",
    "    main_df = pd.DataFrame()\n",
    "    for count, ticker in enumerate(tickers):\n",
    "        df = pd.read_csv(\"stock_dfs/{}.csv\".format(ticker))\n",
    "        df.set_index(\"Date\", inplace = True)\n",
    "\n",
    "        df.rename(columns = {\"Adj Close\": ticker}, inplace = True)\n",
    "        df.drop([\"Open\", \"High\", \"Low\", \"Close\", \"Volume\"], 1, inplace = True)\n",
    "\n",
    "        if main_df.empty:\n",
    "            main_df = df\n",
    "        else:\n",
    "            main_df = main_df.join(df, how = \"outer\")\n",
    "\n",
    "    print(main_df.head())\n",
    "    main_df.to_csv(\"sp500_joined_close_price.csv\")\n",
    "\n",
    "#compile_data()"
   ]
  },
  {
   "cell_type": "markdown",
   "metadata": {},
   "source": [
    "## Calculate random portfolios\n",
    "\n",
    "So, what if you asked me \"How many assets are needed in a portfolio to minimize volatility?\". Well lets do that. Well because I am not trying to build the perfect portfolio with weights (that comes later), I just want to know --How many do I need--. So using the dataframe created above, I can now create thousands of random portfolios and see how many assets I need to minimize volatility. \n",
    "\n",
    "**Note here**, I am strictly talking about volatility right now, returns and Sharpe ratio (the efficient frontier as well, comes later). \n",
    "\n",
    "Lets load up the data and get to work."
   ]
  },
  {
   "cell_type": "code",
   "execution_count": 2,
   "metadata": {},
   "outputs": [],
   "source": [
    "df = pd.read_csv(\"sp500_joined_close_price.csv\", parse_dates = [\"Date\"], index_col = 0)"
   ]
  },
  {
   "cell_type": "markdown",
   "metadata": {},
   "source": [
    "<br>\n",
    "\n",
    "Here I run the simulation. It does not take to long to run, but it will generate a random sized portfolio between 1 and 100, which the computer will run 10.000 (ten thousand) times. From there I will plot the volatility and to allow for your own interpretation, lets just eyeball for now what portfolio size you/I think is best."
   ]
  },
  {
   "cell_type": "code",
   "execution_count": 3,
   "metadata": {},
   "outputs": [
    {
     "name": "stdout",
     "output_type": "stream",
     "text": [
      "Wall time: 28.2 s\n"
     ]
    }
   ],
   "source": [
    "%%time\n",
    "random.seed(123)\n",
    "log_ret = np.log(df/df.shift(1))\n",
    "\n",
    "# this is the variance, used in the for loop to calculate the volatility\n",
    "vol = log_ret.std()\n",
    "# init. empty data frame\n",
    "results = pd.DataFrame(columns = [\"Size\", \"Return\", \"Volatility\"])\n",
    "for i in range(10000):\n",
    "    '''\n",
    "    In this function we use random module to generate random integers (and list of integers)\n",
    "    to use along side the pandas .iloc method to get the right subset of randomly generated\n",
    "    portfolios\n",
    "    '''\n",
    "    # random size of portfolio between 1 and 100\n",
    "    randomsize = random.randint(1, 100)\n",
    "    # using randomsize to get same amount of random values between 1 and 500\n",
    "    assets = random.sample(range(0,500), randomsize)\n",
    "    # picking a random day to sell the position\n",
    "    randomday = random.sample(range(0,2556), 1)\n",
    "    # saving the size since that is one of our measures of volatility, i.e more assets = less vol.\n",
    "    size = len(assets)\n",
    "    # Calculating the mean return for said portfolio on said day\n",
    "    mean = log_ret.iloc[randomday, assets].mean(axis = 1)\n",
    "    # Calculating the std(volatility) for random portfolio \n",
    "    std = np.sqrt(vol.iloc[assets].sum())/len(assets)\n",
    "    #Append the results to the empty data frame\n",
    "    results = results.append({\"Size\": size, \"Return\": mean[0], \"Volatility\": std}, ignore_index = True)\n",
    "# df can be used for further ploting or calculation\n",
    "df2 = results.sort_values(by = \"Size\", ascending = False)\n",
    "# This is the answer to part 1, use for plotting and to generate describtive statistics\n",
    "df2 = df2.groupby('Size').mean()"
   ]
  },
  {
   "cell_type": "code",
   "execution_count": 4,
   "metadata": {},
   "outputs": [
    {
     "data": {
      "image/png": "[encoded data removed]",
      "text/plain": [
       "<Figure size 432x288 with 1 Axes>"
      ]
     },
     "metadata": {
      "needs_background": "light"
     },
     "output_type": "display_data"
    }
   ],
   "source": [
    "df2[\"Volatility\"].plot()\n",
    "plt.title(\"Volatility per Portfolio size\")\n",
    "plt.xlabel(\"Portfolio Size\")\n",
    "plt.ylabel(\"Volatility\")\n",
    "plt.show()"
   ]
  },
  {
   "cell_type": "markdown",
   "metadata": {},
   "source": [
    "I think that this plot speaks for itself. I chose the number 20, I think having 20 assets in a portfolio is a good volatility number to accept. \n",
    "\n",
    "So lets take this to the next step, lets try and add some weights to these portfolios, except now lets fix the portfolio sizes to 20 assets. I realize this might (very likely will) impact the outcome in such a way that the calculations above have no relation to this one. That being said, those portfolios are randomly selected and only measure in a naive the volatility. \n",
    "\n",
    "As an added bonus lets try and find the best asset combinations to have in a portfolio. Its a bit trickier but very well doable. \n",
    "\n",
    "Lets get started."
   ]
  },
  {
   "cell_type": "code",
   "execution_count": 5,
   "metadata": {},
   "outputs": [
    {
     "name": "stdout",
     "output_type": "stream",
     "text": [
      "Wall time: 35.4 s\n"
     ]
    }
   ],
   "source": [
    "%%time\n",
    "random.seed(123)\n",
    "log_ret = np.log(df/df.shift(1))\n",
    "\n",
    "# this is the variance, used in the for loop to calculate the volatility\n",
    "vol = log_ret.std()\n",
    "# init. empty data frame\n",
    "results20 = pd.DataFrame(columns = [\"Size\", \"Return\", \"Volatility\"])\n",
    "names = []\n",
    "weightlist = []\n",
    "for i in range(10000):\n",
    "    '''\n",
    "    In this function we use random module to generate random integers (and list of integers)\n",
    "    to use along side the pandas .iloc method to get the right subset of randomly generated\n",
    "    portfolios\n",
    "    '''\n",
    "    weights = np.random.random(20)  \n",
    "    weights /= np.sum(weights)\n",
    "    weightlist.append(weights)\n",
    "    # size of portfolio is now fixed at 20\n",
    "    size = 20\n",
    "    # using randomsize to get same amount of random values between 1 and 500\n",
    "    assets = random.sample(range(500), size)\n",
    "    # picking a random day to sell the position\n",
    "    randomday = random.sample(range(0,2556), 1)\n",
    "    # Calculating the mean return for said portfolio on said day\n",
    "    mean = log_ret.iloc[randomday, assets].mean(axis = 1)\n",
    "    # Calculating the std(volatility) for random portfolio \n",
    "    std = np.sqrt(vol.iloc[assets].sum())/len(assets)\n",
    "    names.append(log_ret.iloc[randomday, assets].columns.values)\n",
    "    #Append the results to the empty data frame\n",
    "    results20 = results20.append({\"Size\": size, \"Return\": mean[0], \"Volatility\": std}, ignore_index = True)"
   ]
  },
  {
   "cell_type": "code",
   "execution_count": 7,
   "metadata": {},
   "outputs": [
    {
     "name": "stdout",
     "output_type": "stream",
     "text": [
      "The highest return portfolio\n",
      "      Size    Return  Volatility\n",
      "9256  20.0  0.182271    0.049056\n",
      "\n",
      "List of the assets in the portfolio\n",
      "['CVS' 'XOM' 'BKNG' 'MGM' 'CTL' 'IRM' 'NWSA' 'HON' 'EA' 'EQR' 'PEG' 'CAG'\n",
      " 'NLSN' 'GOOGL' 'LEG' 'MTB' 'TROW' 'TT' 'J' 'CE']\n",
      "\n",
      "The weights for each asset in same order as the assets\n",
      "[0.0334089  0.03874708 0.06706916 0.03255073 0.04824048 0.04813469\n",
      " 0.05479863 0.0582607  0.07561097 0.05335559 0.04289949 0.07699641\n",
      " 0.03892566 0.06299288 0.05690659 0.0715864  0.02559207 0.04672883\n",
      " 0.00881801 0.05837672]\n"
     ]
    }
   ],
   "source": [
    "print(\"The highest return portfolio\")\n",
    "print(results20.sort_values(by = \"Return\", ascending = False).head(1))\n",
    "print(\"\")\n",
    "print(\"List of the assets in the portfolio\")\n",
    "print(names[9256])\n",
    "print(\"\")\n",
    "print(\"The weights for each asset in same order as the assets\")\n",
    "print(weightlist[9256])"
   ]
  },
  {
   "cell_type": "markdown",
   "metadata": {},
   "source": [
    "## Next steps ???\n",
    "\n",
    "Although this looks good there are certain things that need to be taken into consideration. I did not calculate the Sharpe Ratio or Information ratio for the portfolios. Also worth noting, I did not annualize the returns, something that can easily be fixed, but the results would not change much from where we stand now. Also on my to-do list is to visualize the Sharpe Ratio and the efficient frontier, not only because its cool, it does give good information about what type of portfolio one should create thats depended on a persons risk-aversion.\n",
    "\n",
    "For now lets let this stand for what it is...a good start."
   ]
  }
 ],
 "metadata": {
  "kernelspec": {
   "display_name": "Python 3",
   "language": "python",
   "name": "python3"
  },
  "language_info": {
   "codemirror_mode": {
    "name": "ipython",
    "version": 3
   },
   "file_extension": ".py",
   "mimetype": "text/x-python",
   "name": "python",
   "nbconvert_exporter": "python",
   "pygments_lexer": "ipython3",
   "version": "3.7.4"
  },
  "toc": {
   "base_numbering": 1,
   "nav_menu": {},
   "number_sections": true,
   "sideBar": true,
   "skip_h1_title": false,
   "title_cell": "Table of Contents",
   "title_sidebar": "Contents",
   "toc_cell": false,
   "toc_position": {},
   "toc_section_display": true,
   "toc_window_display": false
  }
 },
 "nbformat": 4,
 "nbformat_minor": 2
}
